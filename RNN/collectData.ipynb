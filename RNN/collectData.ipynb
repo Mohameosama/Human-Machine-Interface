{
 "cells": [
  {
   "cell_type": "code",
   "execution_count": 1,
   "metadata": {},
   "outputs": [],
   "source": [
    "from globalModule.globalModule import * "
   ]
  },
  {
   "cell_type": "code",
   "execution_count": 2,
   "metadata": {},
   "outputs": [
    {
     "data": {
      "text/plain": [
       "array(['left click', 'right click'], dtype='<U11')"
      ]
     },
     "metadata": {},
     "output_type": "display_data"
    }
   ],
   "source": [
    "display(actions)"
   ]
  },
  {
   "cell_type": "code",
   "execution_count": 3,
   "metadata": {},
   "outputs": [],
   "source": [
    "action = actions[1]\n",
    "# noSequences = 10"
   ]
  },
  {
   "cell_type": "code",
   "execution_count": 4,
   "metadata": {},
   "outputs": [
    {
     "data": {
      "text/plain": [
       "100"
      ]
     },
     "metadata": {},
     "output_type": "display_data"
    }
   ],
   "source": [
    "try:\n",
    "    index = len(os.listdir(f\"{gesturesDataPath}/{action}\"))\n",
    "except:\n",
    "    index = 0        \n",
    "    # os.mkdir(f\"{gesturesDataPath}/{action}\")\n",
    "display(index)"
   ]
  },
  {
   "cell_type": "code",
   "execution_count": 5,
   "metadata": {},
   "outputs": [],
   "source": [
    "sequence = index\n",
    "noSequences += index"
   ]
  },
  {
   "cell_type": "code",
   "execution_count": 6,
   "metadata": {},
   "outputs": [
    {
     "name": "stdout",
     "output_type": "stream",
     "text": [
      "warning:  [Errno 17] File exists: 'data/gestures/right click/0'\n",
      "warning:  [Errno 17] File exists: 'data/gestures/right click/1'\n",
      "warning:  [Errno 17] File exists: 'data/gestures/right click/2'\n",
      "warning:  [Errno 17] File exists: 'data/gestures/right click/3'\n",
      "warning:  [Errno 17] File exists: 'data/gestures/right click/4'\n",
      "warning:  [Errno 17] File exists: 'data/gestures/right click/5'\n",
      "warning:  [Errno 17] File exists: 'data/gestures/right click/6'\n",
      "warning:  [Errno 17] File exists: 'data/gestures/right click/7'\n",
      "warning:  [Errno 17] File exists: 'data/gestures/right click/8'\n",
      "warning:  [Errno 17] File exists: 'data/gestures/right click/9'\n",
      "warning:  [Errno 17] File exists: 'data/gestures/right click/10'\n",
      "warning:  [Errno 17] File exists: 'data/gestures/right click/11'\n",
      "warning:  [Errno 17] File exists: 'data/gestures/right click/12'\n",
      "warning:  [Errno 17] File exists: 'data/gestures/right click/13'\n",
      "warning:  [Errno 17] File exists: 'data/gestures/right click/14'\n",
      "warning:  [Errno 17] File exists: 'data/gestures/right click/15'\n",
      "warning:  [Errno 17] File exists: 'data/gestures/right click/16'\n",
      "warning:  [Errno 17] File exists: 'data/gestures/right click/17'\n",
      "warning:  [Errno 17] File exists: 'data/gestures/right click/18'\n",
      "warning:  [Errno 17] File exists: 'data/gestures/right click/19'\n",
      "warning:  [Errno 17] File exists: 'data/gestures/right click/20'\n",
      "warning:  [Errno 17] File exists: 'data/gestures/right click/21'\n",
      "warning:  [Errno 17] File exists: 'data/gestures/right click/22'\n",
      "warning:  [Errno 17] File exists: 'data/gestures/right click/23'\n",
      "warning:  [Errno 17] File exists: 'data/gestures/right click/24'\n",
      "warning:  [Errno 17] File exists: 'data/gestures/right click/25'\n",
      "warning:  [Errno 17] File exists: 'data/gestures/right click/26'\n",
      "warning:  [Errno 17] File exists: 'data/gestures/right click/27'\n",
      "warning:  [Errno 17] File exists: 'data/gestures/right click/28'\n",
      "warning:  [Errno 17] File exists: 'data/gestures/right click/29'\n",
      "warning:  [Errno 17] File exists: 'data/gestures/right click/30'\n",
      "warning:  [Errno 17] File exists: 'data/gestures/right click/31'\n",
      "warning:  [Errno 17] File exists: 'data/gestures/right click/32'\n",
      "warning:  [Errno 17] File exists: 'data/gestures/right click/33'\n",
      "warning:  [Errno 17] File exists: 'data/gestures/right click/34'\n",
      "warning:  [Errno 17] File exists: 'data/gestures/right click/35'\n",
      "warning:  [Errno 17] File exists: 'data/gestures/right click/36'\n",
      "warning:  [Errno 17] File exists: 'data/gestures/right click/37'\n",
      "warning:  [Errno 17] File exists: 'data/gestures/right click/38'\n",
      "warning:  [Errno 17] File exists: 'data/gestures/right click/39'\n",
      "warning:  [Errno 17] File exists: 'data/gestures/right click/40'\n",
      "warning:  [Errno 17] File exists: 'data/gestures/right click/41'\n",
      "warning:  [Errno 17] File exists: 'data/gestures/right click/42'\n",
      "warning:  [Errno 17] File exists: 'data/gestures/right click/43'\n",
      "warning:  [Errno 17] File exists: 'data/gestures/right click/44'\n",
      "warning:  [Errno 17] File exists: 'data/gestures/right click/45'\n",
      "warning:  [Errno 17] File exists: 'data/gestures/right click/46'\n",
      "warning:  [Errno 17] File exists: 'data/gestures/right click/47'\n",
      "warning:  [Errno 17] File exists: 'data/gestures/right click/48'\n",
      "warning:  [Errno 17] File exists: 'data/gestures/right click/49'\n",
      "warning:  [Errno 17] File exists: 'data/gestures/right click/50'\n",
      "warning:  [Errno 17] File exists: 'data/gestures/right click/51'\n",
      "warning:  [Errno 17] File exists: 'data/gestures/right click/52'\n",
      "warning:  [Errno 17] File exists: 'data/gestures/right click/53'\n",
      "warning:  [Errno 17] File exists: 'data/gestures/right click/54'\n",
      "warning:  [Errno 17] File exists: 'data/gestures/right click/55'\n",
      "warning:  [Errno 17] File exists: 'data/gestures/right click/56'\n",
      "warning:  [Errno 17] File exists: 'data/gestures/right click/57'\n",
      "warning:  [Errno 17] File exists: 'data/gestures/right click/58'\n",
      "warning:  [Errno 17] File exists: 'data/gestures/right click/59'\n",
      "warning:  [Errno 17] File exists: 'data/gestures/right click/60'\n",
      "warning:  [Errno 17] File exists: 'data/gestures/right click/61'\n",
      "warning:  [Errno 17] File exists: 'data/gestures/right click/62'\n",
      "warning:  [Errno 17] File exists: 'data/gestures/right click/63'\n",
      "warning:  [Errno 17] File exists: 'data/gestures/right click/64'\n",
      "warning:  [Errno 17] File exists: 'data/gestures/right click/65'\n",
      "warning:  [Errno 17] File exists: 'data/gestures/right click/66'\n",
      "warning:  [Errno 17] File exists: 'data/gestures/right click/67'\n",
      "warning:  [Errno 17] File exists: 'data/gestures/right click/68'\n",
      "warning:  [Errno 17] File exists: 'data/gestures/right click/69'\n",
      "warning:  [Errno 17] File exists: 'data/gestures/right click/70'\n",
      "warning:  [Errno 17] File exists: 'data/gestures/right click/71'\n",
      "warning:  [Errno 17] File exists: 'data/gestures/right click/72'\n",
      "warning:  [Errno 17] File exists: 'data/gestures/right click/73'\n",
      "warning:  [Errno 17] File exists: 'data/gestures/right click/74'\n",
      "warning:  [Errno 17] File exists: 'data/gestures/right click/75'\n",
      "warning:  [Errno 17] File exists: 'data/gestures/right click/76'\n",
      "warning:  [Errno 17] File exists: 'data/gestures/right click/77'\n",
      "warning:  [Errno 17] File exists: 'data/gestures/right click/78'\n",
      "warning:  [Errno 17] File exists: 'data/gestures/right click/79'\n",
      "warning:  [Errno 17] File exists: 'data/gestures/right click/80'\n",
      "warning:  [Errno 17] File exists: 'data/gestures/right click/81'\n",
      "warning:  [Errno 17] File exists: 'data/gestures/right click/82'\n",
      "warning:  [Errno 17] File exists: 'data/gestures/right click/83'\n",
      "warning:  [Errno 17] File exists: 'data/gestures/right click/84'\n",
      "warning:  [Errno 17] File exists: 'data/gestures/right click/85'\n",
      "warning:  [Errno 17] File exists: 'data/gestures/right click/86'\n",
      "warning:  [Errno 17] File exists: 'data/gestures/right click/87'\n",
      "warning:  [Errno 17] File exists: 'data/gestures/right click/88'\n",
      "warning:  [Errno 17] File exists: 'data/gestures/right click/89'\n",
      "warning:  [Errno 17] File exists: 'data/gestures/right click/90'\n",
      "warning:  [Errno 17] File exists: 'data/gestures/right click/91'\n",
      "warning:  [Errno 17] File exists: 'data/gestures/right click/92'\n",
      "warning:  [Errno 17] File exists: 'data/gestures/right click/93'\n",
      "warning:  [Errno 17] File exists: 'data/gestures/right click/94'\n",
      "warning:  [Errno 17] File exists: 'data/gestures/right click/95'\n",
      "warning:  [Errno 17] File exists: 'data/gestures/right click/96'\n",
      "warning:  [Errno 17] File exists: 'data/gestures/right click/97'\n",
      "warning:  [Errno 17] File exists: 'data/gestures/right click/98'\n",
      "warning:  [Errno 17] File exists: 'data/gestures/right click/99'\n"
     ]
    }
   ],
   "source": [
    "# for action in actions:\n",
    "for sequence in range(noSequences):\n",
    "    try:\n",
    "        os.makedirs(os.path.join(gesturesDataPath, action, str(sequence)))\n",
    "    except Exception as e:\n",
    "        print(\"warning: \", e)\n"
   ]
  },
  {
   "cell_type": "code",
   "execution_count": 7,
   "metadata": {},
   "outputs": [],
   "source": [
    "cap = cv2.VideoCapture(0)"
   ]
  },
  {
   "cell_type": "markdown",
   "metadata": {},
   "source": [
    "# Write name of action you need to collect"
   ]
  },
  {
   "cell_type": "code",
   "execution_count": 8,
   "metadata": {},
   "outputs": [
    {
     "name": "stderr",
     "output_type": "stream",
     "text": [
      "INFO: Created TensorFlow Lite XNNPACK delegate for CPU.\n"
     ]
    }
   ],
   "source": [
    "with mpHolistics.Holistic(min_detection_confidence=0.5, min_tracking_confidence=0.5) as holistic:    \n",
    "    # Loop through sequences aka videos\n",
    "    for sequence in range(noSequences):\n",
    "        # Loop through video length aka sequence length\n",
    "        for frame_num in range(sequenceLen):\n",
    "\n",
    "            # Read feed\n",
    "            ret, frame = cap.read()\n",
    "\n",
    "            # Make detections\n",
    "            results = mediapipeDetection(frame, holistic)\n",
    "\n",
    "            # Draw landmarks\n",
    "            drawLandmarks(frame, results)\n",
    "            \n",
    "            # NEW Apply wait logic\n",
    "            if frame_num == 0: \n",
    "                cv2.putText(frame, 'STARTING COLLECTION', (120,200), \n",
    "                        cv2.FONT_HERSHEY_SIMPLEX, 1, (0,255, 0), 4, cv2.LINE_AA)\n",
    "                cv2.putText(frame, 'Collecting frames for {} Video Number {}'.format(action, sequence), (15,12), \n",
    "                        cv2.FONT_HERSHEY_SIMPLEX, 0.5, (0, 0, 255), 1, cv2.LINE_AA)\n",
    "                # Show to screen\n",
    "                cv2.imshow('OpenCV Feed', frame)\n",
    "                cv2.waitKey(500)\n",
    "            else: \n",
    "                cv2.putText(frame, 'Collecting frames for {} Video Number {}'.format(action, sequence), (15,12), \n",
    "                        cv2.FONT_HERSHEY_SIMPLEX, 0.5, (0, 0, 255), 1, cv2.LINE_AA)\n",
    "                # Show to screen\n",
    "                cv2.imshow('OpenCV Feed', frame)\n",
    "            \n",
    "            # NEW Export keypoints\n",
    "            keypoints = getKeyPoints(results)\n",
    "            npy_path = os.path.join(gesturesDataPath, action, str(sequence), str(frame_num))\n",
    "            np.save(npy_path, keypoints)\n",
    "\n",
    "            # Break gracefully\n",
    "            if cv2.waitKey(10) & 0xFF == ord('q'):\n",
    "                \n",
    "                break\n",
    "cap.release()\n",
    "cv2.destroyAllWindows()\n"
   ]
  },
  {
   "cell_type": "code",
   "execution_count": null,
   "metadata": {},
   "outputs": [],
   "source": []
  }
 ],
 "metadata": {
  "kernelspec": {
   "display_name": "HMI",
   "language": "python",
   "name": "python3"
  },
  "language_info": {
   "codemirror_mode": {
    "name": "ipython",
    "version": 3
   },
   "file_extension": ".py",
   "mimetype": "text/x-python",
   "name": "python",
   "nbconvert_exporter": "python",
   "pygments_lexer": "ipython3",
   "version": "3.7.13"
  },
  "orig_nbformat": 4,
  "vscode": {
   "interpreter": {
    "hash": "f6e272901badba90d5eb7a6b1135524e5e42e63835266f4182f2b47f7b80beda"
   }
  }
 },
 "nbformat": 4,
 "nbformat_minor": 2
}
