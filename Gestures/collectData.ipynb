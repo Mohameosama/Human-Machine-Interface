{
 "cells": [
  {
   "cell_type": "code",
   "execution_count": 31,
   "metadata": {},
   "outputs": [],
   "source": [
    "from globalModule.globalModule import * "
   ]
  },
  {
   "cell_type": "code",
   "execution_count": 32,
   "metadata": {},
   "outputs": [
    {
     "data": {
      "text/plain": [
       "array(['click', 'swipe up', 'volume up', 'close', 'pause&play'],\n",
       "      dtype='<U10')"
      ]
     },
     "metadata": {},
     "output_type": "display_data"
    },
    {
     "name": "stdout",
     "output_type": "stream",
     "text": [
      "5\n"
     ]
    }
   ],
   "source": [
    "display(actions)\n",
    "print(len(actions))"
   ]
  },
  {
   "cell_type": "code",
   "execution_count": 8,
   "metadata": {},
   "outputs": [
    {
     "name": "stdout",
     "output_type": "stream",
     "text": [
      "pause&play\n"
     ]
    }
   ],
   "source": [
    "action = actions[4]\n",
    "print(action)\n",
    "# noSequences = 10"
   ]
  },
  {
   "cell_type": "code",
   "execution_count": 9,
   "metadata": {},
   "outputs": [
    {
     "data": {
      "text/plain": [
       "50"
      ]
     },
     "metadata": {},
     "output_type": "display_data"
    }
   ],
   "source": [
    "try:\n",
    "    index = len(os.listdir(f\"{gesturesDataPath}/{action}\"))\n",
    "except:\n",
    "    index = 0        \n",
    "    # os.mkdir(f\"{gesturesDataPath}/{action}\")\n",
    "display(index)"
   ]
  },
  {
   "cell_type": "code",
   "execution_count": 10,
   "metadata": {},
   "outputs": [],
   "source": [
    "sequence = index\n",
    "noSequences += index"
   ]
  },
  {
   "cell_type": "code",
   "execution_count": 11,
   "metadata": {},
   "outputs": [
    {
     "name": "stdout",
     "output_type": "stream",
     "text": [
      "warning:  [Errno 17] File exists: 'data/gestures/pause&play/0'\n",
      "warning:  [Errno 17] File exists: 'data/gestures/pause&play/1'\n",
      "warning:  [Errno 17] File exists: 'data/gestures/pause&play/2'\n",
      "warning:  [Errno 17] File exists: 'data/gestures/pause&play/3'\n",
      "warning:  [Errno 17] File exists: 'data/gestures/pause&play/4'\n",
      "warning:  [Errno 17] File exists: 'data/gestures/pause&play/5'\n",
      "warning:  [Errno 17] File exists: 'data/gestures/pause&play/6'\n",
      "warning:  [Errno 17] File exists: 'data/gestures/pause&play/7'\n",
      "warning:  [Errno 17] File exists: 'data/gestures/pause&play/8'\n",
      "warning:  [Errno 17] File exists: 'data/gestures/pause&play/9'\n",
      "warning:  [Errno 17] File exists: 'data/gestures/pause&play/10'\n",
      "warning:  [Errno 17] File exists: 'data/gestures/pause&play/11'\n",
      "warning:  [Errno 17] File exists: 'data/gestures/pause&play/12'\n",
      "warning:  [Errno 17] File exists: 'data/gestures/pause&play/13'\n",
      "warning:  [Errno 17] File exists: 'data/gestures/pause&play/14'\n",
      "warning:  [Errno 17] File exists: 'data/gestures/pause&play/15'\n",
      "warning:  [Errno 17] File exists: 'data/gestures/pause&play/16'\n",
      "warning:  [Errno 17] File exists: 'data/gestures/pause&play/17'\n",
      "warning:  [Errno 17] File exists: 'data/gestures/pause&play/18'\n",
      "warning:  [Errno 17] File exists: 'data/gestures/pause&play/19'\n",
      "warning:  [Errno 17] File exists: 'data/gestures/pause&play/20'\n",
      "warning:  [Errno 17] File exists: 'data/gestures/pause&play/21'\n",
      "warning:  [Errno 17] File exists: 'data/gestures/pause&play/22'\n",
      "warning:  [Errno 17] File exists: 'data/gestures/pause&play/23'\n",
      "warning:  [Errno 17] File exists: 'data/gestures/pause&play/24'\n",
      "warning:  [Errno 17] File exists: 'data/gestures/pause&play/25'\n",
      "warning:  [Errno 17] File exists: 'data/gestures/pause&play/26'\n",
      "warning:  [Errno 17] File exists: 'data/gestures/pause&play/27'\n",
      "warning:  [Errno 17] File exists: 'data/gestures/pause&play/28'\n",
      "warning:  [Errno 17] File exists: 'data/gestures/pause&play/29'\n",
      "warning:  [Errno 17] File exists: 'data/gestures/pause&play/30'\n",
      "warning:  [Errno 17] File exists: 'data/gestures/pause&play/31'\n",
      "warning:  [Errno 17] File exists: 'data/gestures/pause&play/32'\n",
      "warning:  [Errno 17] File exists: 'data/gestures/pause&play/33'\n",
      "warning:  [Errno 17] File exists: 'data/gestures/pause&play/34'\n",
      "warning:  [Errno 17] File exists: 'data/gestures/pause&play/35'\n",
      "warning:  [Errno 17] File exists: 'data/gestures/pause&play/36'\n",
      "warning:  [Errno 17] File exists: 'data/gestures/pause&play/37'\n",
      "warning:  [Errno 17] File exists: 'data/gestures/pause&play/38'\n",
      "warning:  [Errno 17] File exists: 'data/gestures/pause&play/39'\n",
      "warning:  [Errno 17] File exists: 'data/gestures/pause&play/40'\n",
      "warning:  [Errno 17] File exists: 'data/gestures/pause&play/41'\n",
      "warning:  [Errno 17] File exists: 'data/gestures/pause&play/42'\n",
      "warning:  [Errno 17] File exists: 'data/gestures/pause&play/43'\n",
      "warning:  [Errno 17] File exists: 'data/gestures/pause&play/44'\n",
      "warning:  [Errno 17] File exists: 'data/gestures/pause&play/45'\n",
      "warning:  [Errno 17] File exists: 'data/gestures/pause&play/46'\n",
      "warning:  [Errno 17] File exists: 'data/gestures/pause&play/47'\n",
      "warning:  [Errno 17] File exists: 'data/gestures/pause&play/48'\n",
      "warning:  [Errno 17] File exists: 'data/gestures/pause&play/49'\n"
     ]
    }
   ],
   "source": [
    "# for action in actions:\n",
    "for sequence in range(noSequences):\n",
    "    try:\n",
    "        os.makedirs(os.path.join(gesturesDataPath, action, str(sequence)))\n",
    "    except Exception as e:\n",
    "        print(\"warning: \", e)\n"
   ]
  },
  {
   "cell_type": "code",
   "execution_count": 12,
   "metadata": {},
   "outputs": [],
   "source": [
    "cap = cv2.VideoCapture(0)"
   ]
  },
  {
   "cell_type": "markdown",
   "metadata": {},
   "source": [
    "# Write name of action you need to collect"
   ]
  },
  {
   "cell_type": "code",
   "execution_count": 13,
   "metadata": {},
   "outputs": [
    {
     "name": "stderr",
     "output_type": "stream",
     "text": [
      "INFO: Created TensorFlow Lite XNNPACK delegate for CPU.\n"
     ]
    },
    {
     "ename": "",
     "evalue": "",
     "output_type": "error",
     "traceback": [
      "\u001b[1;31mThe Kernel crashed while executing code in the the current cell or a previous cell. Please review the code in the cell(s) to identify a possible cause of the failure. Click <a href='https://aka.ms/vscodeJupyterKernelCrash'>here</a> for more info. View Jupyter <a href='command:jupyter.viewOutput'>log</a> for further details."
     ]
    }
   ],
   "source": [
    "with mpHolistics.Holistic(min_detection_confidence=0.5, min_tracking_confidence=0.5) as holistic:    \n",
    "    # Loop through sequences aka videos\n",
    "    for sequence in range(noSequences):\n",
    "        # Loop through video length aka sequence length\n",
    "        for frame_num in range(sequenceLen):\n",
    "\n",
    "            # Read feed\n",
    "            ret, frame = cap.read()\n",
    "\n",
    "            # Make detections\n",
    "            results = mediapipeDetection(frame, holistic)\n",
    "\n",
    "            # Draw landmarks\n",
    "            drawLandmarks(frame, results)\n",
    "            \n",
    "            # NEW Apply wait logic\n",
    "            if frame_num == 0: \n",
    "                cv2.putText(frame, 'STARTING COLLECTION', (120,200), \n",
    "                        cv2.FONT_HERSHEY_SIMPLEX, 1, (0,255, 0), 4, cv2.LINE_AA)\n",
    "                cv2.putText(frame, 'Collecting frames for {} Video Number {}'.format(action, sequence), (15,12), \n",
    "                        cv2.FONT_HERSHEY_SIMPLEX, 0.5, (0, 0, 255), 1, cv2.LINE_AA)\n",
    "                # Show to screen\n",
    "                cv2.imshow('OpenCV Feed', frame)\n",
    "                cv2.waitKey(500)\n",
    "            else: \n",
    "                cv2.putText(frame, 'Collecting frames for {} Video Number {}'.format(action, sequence), (15,12), \n",
    "                        cv2.FONT_HERSHEY_SIMPLEX, 0.5, (0, 0, 255), 1, cv2.LINE_AA)\n",
    "                # Show to screen\n",
    "                cv2.imshow('OpenCV Feed', frame)\n",
    "            \n",
    "            # NEW Export keypoints\n",
    "            keypoints = getKeyPoints(results)\n",
    "            npy_path = os.path.join(gesturesDataPath, action, str(sequence), str(frame_num))\n",
    "            np.save(npy_path, keypoints)\n",
    "\n",
    "            # Break gracefully\n",
    "            if cv2.waitKey(10) & 0xFF == ord('q'):\n",
    "                \n",
    "                break\n",
    "cap.release()\n",
    "cv2.destroyAllWindows()\n"
   ]
  },
  {
   "cell_type": "code",
   "execution_count": null,
   "metadata": {},
   "outputs": [],
   "source": []
  }
 ],
 "metadata": {
  "kernelspec": {
   "display_name": "Python 3.9.15 ('grad')",
   "language": "python",
   "name": "python3"
  },
  "language_info": {
   "codemirror_mode": {
    "name": "ipython",
    "version": 3
   },
   "file_extension": ".py",
   "mimetype": "text/x-python",
   "name": "python",
   "nbconvert_exporter": "python",
   "pygments_lexer": "ipython3",
   "version": "3.9.15"
  },
  "orig_nbformat": 4,
  "vscode": {
   "interpreter": {
    "hash": "18fd295c835ec4730dd369388f2ed2cf6baa4e848930495c5cf1d18f60f950b0"
   }
  }
 },
 "nbformat": 4,
 "nbformat_minor": 2
}
