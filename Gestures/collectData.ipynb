{
 "cells": [
  {
   "cell_type": "code",
   "execution_count": 1,
   "metadata": {},
   "outputs": [
    {
     "name": "stdout",
     "output_type": "stream",
     "text": [
      "['click' 'swipe up' 'volume up' 'close' 'pause&play' 'anothingg']\n"
     ]
    }
   ],
   "source": [
    "from globalModule.globalModule import *"
   ]
  },
  {
   "cell_type": "code",
   "execution_count": 2,
   "metadata": {},
   "outputs": [
    {
     "data": {
      "text/plain": [
       "array(['click', 'swipe up', 'volume up', 'close', 'pause&play',\n",
       "       'anothingg'], dtype='<U10')"
      ]
     },
     "metadata": {},
     "output_type": "display_data"
    },
    {
     "name": "stdout",
     "output_type": "stream",
     "text": [
      "6\n"
     ]
    }
   ],
   "source": [
    "display(actions)\n",
    "print(len(actions))"
   ]
  },
  {
   "cell_type": "code",
   "execution_count": 6,
   "metadata": {},
   "outputs": [
    {
     "name": "stdout",
     "output_type": "stream",
     "text": [
      "click\n"
     ]
    }
   ],
   "source": [
    "action = actions[0]\n",
    "print(action)\n",
    "# noSequences = 10"
   ]
  },
  {
   "cell_type": "code",
   "execution_count": 7,
   "metadata": {},
   "outputs": [
    {
     "data": {
      "text/plain": [
       "50"
      ]
     },
     "metadata": {},
     "output_type": "display_data"
    }
   ],
   "source": [
    "try:\n",
    "    index = len(os.listdir(f\"{gesturesDataPath}/{action}\"))\n",
    "except:\n",
    "    index = 0        \n",
    "    # os.mkdir(f\"{gesturesDataPath}/{action}\")\n",
    "display(index)"
   ]
  },
  {
   "cell_type": "code",
   "execution_count": 8,
   "metadata": {},
   "outputs": [],
   "source": [
    "sequence = index\n",
    "noSequences += index"
   ]
  },
  {
   "cell_type": "code",
   "execution_count": null,
   "metadata": {},
   "outputs": [],
   "source": [
    "# for action in actions:\n",
    "for sequence in range(noSequences):\n",
    "    try:\n",
    "        os.makedirs(os.path.join(gesturesDataPath, action, str(sequence)))\n",
    "    except Exception as e:\n",
    "        print(\"warning: \", e)\n"
   ]
  },
  {
   "cell_type": "markdown",
   "metadata": {},
   "source": [
    "# Write name of action you need to collect"
   ]
  },
  {
   "cell_type": "code",
   "execution_count": 10,
   "metadata": {},
   "outputs": [
    {
     "name": "stderr",
     "output_type": "stream",
     "text": [
      "INFO: Created TensorFlow Lite XNNPACK delegate for CPU.\n"
     ]
    },
    {
     "ename": "KeyboardInterrupt",
     "evalue": "",
     "output_type": "error",
     "traceback": [
      "\u001b[0;31m---------------------------------------------------------------------------\u001b[0m",
      "\u001b[0;31mKeyboardInterrupt\u001b[0m                         Traceback (most recent call last)",
      "Cell \u001b[0;32mIn[10], line 25\u001b[0m\n\u001b[1;32m     23\u001b[0m     \u001b[39m# Show to screen\u001b[39;00m\n\u001b[1;32m     24\u001b[0m     cv2\u001b[39m.\u001b[39mimshow(\u001b[39m'\u001b[39m\u001b[39mOpenCV Feed\u001b[39m\u001b[39m'\u001b[39m, frame)\n\u001b[0;32m---> 25\u001b[0m     cv2\u001b[39m.\u001b[39;49mwaitKey(\u001b[39m500\u001b[39;49m)\n\u001b[1;32m     26\u001b[0m \u001b[39melse\u001b[39;00m: \n\u001b[1;32m     27\u001b[0m     cv2\u001b[39m.\u001b[39mputText(frame, \u001b[39m'\u001b[39m\u001b[39mCollecting frames for \u001b[39m\u001b[39m{}\u001b[39;00m\u001b[39m Video Number \u001b[39m\u001b[39m{}\u001b[39;00m\u001b[39m'\u001b[39m\u001b[39m.\u001b[39mformat(action, sequence), (\u001b[39m15\u001b[39m,\u001b[39m12\u001b[39m), \n\u001b[1;32m     28\u001b[0m             cv2\u001b[39m.\u001b[39mFONT_HERSHEY_SIMPLEX, \u001b[39m0.5\u001b[39m, (\u001b[39m0\u001b[39m, \u001b[39m0\u001b[39m, \u001b[39m255\u001b[39m), \u001b[39m1\u001b[39m, cv2\u001b[39m.\u001b[39mLINE_AA)\n",
      "\u001b[0;31mKeyboardInterrupt\u001b[0m: "
     ]
    }
   ],
   "source": [
    "cap = cv2.VideoCapture(0)\n",
    "with mpHolistics.Holistic(min_detection_confidence=0.5, min_tracking_confidence=0.5) as holistic:    \n",
    "    # Loop through sequences aka videos\n",
    "    for sequence in range(noSequences):\n",
    "        # Loop through video length aka sequence length\n",
    "        for frame_num in range(sequenceLen):\n",
    "\n",
    "            # Read feed\n",
    "            ret, frame = cap.read()\n",
    "\n",
    "            # Make detections\n",
    "            results = mediapipeDetection(frame, holistic)\n",
    "\n",
    "            # Draw landmarks\n",
    "            drawLandmarks(frame, results)\n",
    "            \n",
    "            # NEW Apply wait logic\n",
    "            if frame_num == 0: \n",
    "                cv2.putText(frame, 'STARTING COLLECTION', (120,200), \n",
    "                        cv2.FONT_HERSHEY_SIMPLEX, 1, (0,255, 0), 4, cv2.LINE_AA)\n",
    "                cv2.putText(frame, 'Collecting frames for {} Video Number {}'.format(action, sequence), (15,12), \n",
    "                        cv2.FONT_HERSHEY_SIMPLEX, 0.5, (0, 0, 255), 1, cv2.LINE_AA)\n",
    "                # Show to screen\n",
    "                cv2.imshow('OpenCV Feed', frame)\n",
    "                cv2.waitKey(500)\n",
    "            else: \n",
    "                cv2.putText(frame, 'Collecting frames for {} Video Number {}'.format(action, sequence), (15,12), \n",
    "                        cv2.FONT_HERSHEY_SIMPLEX, 0.5, (0, 0, 255), 1, cv2.LINE_AA)\n",
    "                # Show to screen\n",
    "                cv2.imshow('OpenCV Feed', frame)\n",
    "            \n",
    "            # NEW Export keypoints\n",
    "            keypoints = getKeyPoints(results)\n",
    "            npy_path = os.path.join(gesturesDataPath, action, str(sequence), str(frame_num))\n",
    "            np.save(npy_path, keypoints)\n",
    "\n",
    "            # Break gracefully\n",
    "            if cv2.waitKey(10) & 0xFF == ord('q'):\n",
    "                \n",
    "                break\n",
    "cap.release()\n",
    "cv2.destroyAllWindows()\n"
   ]
  },
  {
   "cell_type": "code",
   "execution_count": null,
   "metadata": {},
   "outputs": [],
   "source": []
  }
 ],
 "metadata": {
  "kernelspec": {
   "display_name": "Python 3.9.15 ('grad')",
   "language": "python",
   "name": "python3"
  },
  "language_info": {
   "codemirror_mode": {
    "name": "ipython",
    "version": 3
   },
   "file_extension": ".py",
   "mimetype": "text/x-python",
   "name": "python",
   "nbconvert_exporter": "python",
   "pygments_lexer": "ipython3",
   "version": "3.9.15"
  },
  "orig_nbformat": 4,
  "vscode": {
   "interpreter": {
    "hash": "18fd295c835ec4730dd369388f2ed2cf6baa4e848930495c5cf1d18f60f950b0"
   }
  }
 },
 "nbformat": 4,
 "nbformat_minor": 2
}
