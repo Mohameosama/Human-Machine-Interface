{
 "cells": [
  {
   "cell_type": "code",
   "execution_count": 137,
   "metadata": {},
   "outputs": [],
   "source": [
    "import numpy as np\n",
    "import os\n",
    "\n",
    "\n",
    "from tensorflow.keras.models import Sequential\n",
    "from tensorflow.keras.layers import Dense\n",
    "from tensorflow.keras.layers import Flatten\n",
    "from tensorflow.keras.callbacks import TensorBoard\n",
    "from sklearn.model_selection import train_test_split\n",
    "from tensorflow.keras.utils import to_categorical\n",
    "import pandas as pd\n",
    "\n",
    "# from globalModule.globalModule import *"
   ]
  },
  {
   "cell_type": "code",
   "execution_count": 164,
   "metadata": {},
   "outputs": [
    {
     "data": {
      "text/plain": [
       "4"
      ]
     },
     "execution_count": 164,
     "metadata": {},
     "output_type": "execute_result"
    }
   ],
   "source": [
    "__name__ = \"grid Classification\"\n",
    "\n",
    "grids = np.array([0, 1, 2, 3])\n",
    "len(grids)"
   ]
  },
  {
   "attachments": {},
   "cell_type": "markdown",
   "metadata": {},
   "source": [
    "# Model"
   ]
  },
  {
   "cell_type": "code",
   "execution_count": 165,
   "metadata": {},
   "outputs": [],
   "source": [
    "def getModel():\n",
    "    model = Sequential()\n",
    "    model.add(Dense(64, activation='relu',input_shape=(42, 3)))\n",
    "    model.add(Flatten())\n",
    "    model.add(Dense(32, activation='relu'))\n",
    "    model.add(Dense(16, activation='relu'))\n",
    "    model.add(Dense(len(grids), activation='softmax'))\n",
    "\n",
    "    model.compile(optimizer='Adam', loss='categorical_crossentropy', metrics=['accuracy'])\n",
    "\n",
    "    return model\n"
   ]
  },
  {
   "cell_type": "code",
   "execution_count": 168,
   "metadata": {},
   "outputs": [],
   "source": [
    "def getData():\n",
    "    data = []\n",
    "\n",
    "    labels = []\n",
    "    for i in range(4):\n",
    "        directory = f\"dataset/{i}\"\n",
    "        for file in os.listdir(directory):        \n",
    "            f = os.path.join(directory, file)\n",
    "            # checking if it is a file\n",
    "            if os.path.isfile(f):                \n",
    "                data.append(pd.read_csv(f'{f}', header=None))\n",
    "                labels.append(i)\n",
    "    return data, labels\n",
    "\n",
    "\n",
    "    # arr = np.array(data)\n",
    "    # display(arr.shape)\n",
    "\n",
    "\n",
    "\n",
    "\n"
   ]
  },
  {
   "cell_type": "code",
   "execution_count": 169,
   "metadata": {},
   "outputs": [],
   "source": [
    "data, labels = getData()\n",
    "x = np.array(data)\n",
    "y = np.array(labels)\n",
    "y = to_categorical(labels).astype(int)\n",
    "x_train, x_test, y_train, y_test = train_test_split(x, y, test_size=0.3, stratify=y)"
   ]
  },
  {
   "cell_type": "code",
   "execution_count": 170,
   "metadata": {},
   "outputs": [
    {
     "data": {
      "text/plain": [
       "(28, 42, 3)"
      ]
     },
     "metadata": {},
     "output_type": "display_data"
    },
    {
     "data": {
      "text/plain": [
       "(28, 4)"
      ]
     },
     "metadata": {},
     "output_type": "display_data"
    },
    {
     "data": {
      "text/plain": [
       "(12, 42, 3)"
      ]
     },
     "metadata": {},
     "output_type": "display_data"
    },
    {
     "data": {
      "text/plain": [
       "(12, 4)"
      ]
     },
     "metadata": {},
     "output_type": "display_data"
    }
   ],
   "source": [
    "\n",
    "display(x_train.shape)\n",
    "display(y_train.shape)\n",
    "display(x_test.shape)\n",
    "display(y_test.shape)\n",
    "\n",
    "\n"
   ]
  },
  {
   "cell_type": "code",
   "execution_count": 171,
   "metadata": {},
   "outputs": [
    {
     "name": "stdout",
     "output_type": "stream",
     "text": [
      "Epoch 1/50\n",
      "1/1 [==============================] - 0s 475ms/step - loss: 1.3864 - accuracy: 0.2500 - val_loss: 1.3829 - val_accuracy: 0.2500\n",
      "Epoch 2/50\n",
      "1/1 [==============================] - 0s 23ms/step - loss: 1.3822 - accuracy: 0.2500 - val_loss: 1.3798 - val_accuracy: 0.2500\n",
      "Epoch 3/50\n",
      "1/1 [==============================] - 0s 31ms/step - loss: 1.3790 - accuracy: 0.2500 - val_loss: 1.3777 - val_accuracy: 0.2500\n",
      "Epoch 4/50\n",
      "1/1 [==============================] - 0s 37ms/step - loss: 1.3768 - accuracy: 0.2500 - val_loss: 1.3740 - val_accuracy: 0.2500\n",
      "Epoch 5/50\n",
      "1/1 [==============================] - 0s 31ms/step - loss: 1.3732 - accuracy: 0.2500 - val_loss: 1.3711 - val_accuracy: 0.2500\n",
      "Epoch 6/50\n",
      "1/1 [==============================] - 0s 26ms/step - loss: 1.3702 - accuracy: 0.2500 - val_loss: 1.3677 - val_accuracy: 0.2500\n",
      "Epoch 7/50\n",
      "1/1 [==============================] - 0s 24ms/step - loss: 1.3667 - accuracy: 0.2500 - val_loss: 1.3630 - val_accuracy: 0.2500\n",
      "Epoch 8/50\n",
      "1/1 [==============================] - 0s 21ms/step - loss: 1.3620 - accuracy: 0.2500 - val_loss: 1.3589 - val_accuracy: 0.5000\n",
      "Epoch 9/50\n",
      "1/1 [==============================] - 0s 26ms/step - loss: 1.3579 - accuracy: 0.5000 - val_loss: 1.3545 - val_accuracy: 0.5000\n",
      "Epoch 10/50\n",
      "1/1 [==============================] - 0s 20ms/step - loss: 1.3533 - accuracy: 0.5000 - val_loss: 1.3507 - val_accuracy: 0.5000\n",
      "Epoch 11/50\n",
      "1/1 [==============================] - 0s 25ms/step - loss: 1.3493 - accuracy: 0.5000 - val_loss: 1.3438 - val_accuracy: 0.5000\n",
      "Epoch 12/50\n",
      "1/1 [==============================] - 0s 28ms/step - loss: 1.3422 - accuracy: 0.5000 - val_loss: 1.3376 - val_accuracy: 0.5000\n",
      "Epoch 13/50\n",
      "1/1 [==============================] - 0s 23ms/step - loss: 1.3363 - accuracy: 0.5000 - val_loss: 1.3311 - val_accuracy: 0.4167\n",
      "Epoch 14/50\n",
      "1/1 [==============================] - 0s 22ms/step - loss: 1.3290 - accuracy: 0.5000 - val_loss: 1.3247 - val_accuracy: 0.3333\n",
      "Epoch 15/50\n",
      "1/1 [==============================] - 0s 22ms/step - loss: 1.3221 - accuracy: 0.3571 - val_loss: 1.3185 - val_accuracy: 0.3333\n",
      "Epoch 16/50\n",
      "1/1 [==============================] - 0s 29ms/step - loss: 1.3154 - accuracy: 0.2857 - val_loss: 1.3111 - val_accuracy: 0.3333\n",
      "Epoch 17/50\n",
      "1/1 [==============================] - 0s 21ms/step - loss: 1.3077 - accuracy: 0.3571 - val_loss: 1.3026 - val_accuracy: 0.4167\n",
      "Epoch 18/50\n",
      "1/1 [==============================] - 0s 23ms/step - loss: 1.2991 - accuracy: 0.5000 - val_loss: 1.2940 - val_accuracy: 0.5000\n",
      "Epoch 19/50\n",
      "1/1 [==============================] - 0s 23ms/step - loss: 1.2909 - accuracy: 0.5000 - val_loss: 1.2853 - val_accuracy: 0.5000\n",
      "Epoch 20/50\n",
      "1/1 [==============================] - 0s 29ms/step - loss: 1.2815 - accuracy: 0.5000 - val_loss: 1.2759 - val_accuracy: 0.7500\n",
      "Epoch 21/50\n",
      "1/1 [==============================] - 0s 31ms/step - loss: 1.2718 - accuracy: 0.7143 - val_loss: 1.2669 - val_accuracy: 0.7500\n",
      "Epoch 22/50\n",
      "1/1 [==============================] - 0s 24ms/step - loss: 1.2624 - accuracy: 0.7500 - val_loss: 1.2556 - val_accuracy: 0.7500\n",
      "Epoch 23/50\n",
      "1/1 [==============================] - 0s 25ms/step - loss: 1.2506 - accuracy: 0.7500 - val_loss: 1.2450 - val_accuracy: 0.7500\n",
      "Epoch 24/50\n",
      "1/1 [==============================] - 0s 23ms/step - loss: 1.2393 - accuracy: 0.7500 - val_loss: 1.2334 - val_accuracy: 0.7500\n",
      "Epoch 25/50\n",
      "1/1 [==============================] - 0s 21ms/step - loss: 1.2272 - accuracy: 0.7500 - val_loss: 1.2212 - val_accuracy: 0.7500\n",
      "Epoch 26/50\n",
      "1/1 [==============================] - 0s 25ms/step - loss: 1.2146 - accuracy: 0.7500 - val_loss: 1.2082 - val_accuracy: 0.7500\n",
      "Epoch 27/50\n",
      "1/1 [==============================] - 0s 22ms/step - loss: 1.2014 - accuracy: 0.7500 - val_loss: 1.1946 - val_accuracy: 0.7500\n",
      "Epoch 28/50\n",
      "1/1 [==============================] - 0s 22ms/step - loss: 1.1874 - accuracy: 0.7500 - val_loss: 1.1807 - val_accuracy: 0.7500\n",
      "Epoch 29/50\n",
      "1/1 [==============================] - 0s 25ms/step - loss: 1.1737 - accuracy: 0.7500 - val_loss: 1.1662 - val_accuracy: 0.7500\n",
      "Epoch 30/50\n",
      "1/1 [==============================] - 0s 24ms/step - loss: 1.1582 - accuracy: 0.7500 - val_loss: 1.1525 - val_accuracy: 0.7500\n",
      "Epoch 31/50\n",
      "1/1 [==============================] - 0s 30ms/step - loss: 1.1434 - accuracy: 0.7500 - val_loss: 1.1364 - val_accuracy: 0.7500\n",
      "Epoch 32/50\n",
      "1/1 [==============================] - 0s 32ms/step - loss: 1.1267 - accuracy: 0.7500 - val_loss: 1.1198 - val_accuracy: 0.7500\n",
      "Epoch 33/50\n",
      "1/1 [==============================] - 0s 23ms/step - loss: 1.1102 - accuracy: 0.7500 - val_loss: 1.1035 - val_accuracy: 0.7500\n",
      "Epoch 34/50\n",
      "1/1 [==============================] - 0s 22ms/step - loss: 1.0931 - accuracy: 0.7500 - val_loss: 1.0870 - val_accuracy: 0.7500\n",
      "Epoch 35/50\n",
      "1/1 [==============================] - 0s 26ms/step - loss: 1.0757 - accuracy: 0.7500 - val_loss: 1.0692 - val_accuracy: 0.7500\n",
      "Epoch 36/50\n",
      "1/1 [==============================] - 0s 23ms/step - loss: 1.0576 - accuracy: 0.7500 - val_loss: 1.0507 - val_accuracy: 0.7500\n",
      "Epoch 37/50\n",
      "1/1 [==============================] - 0s 31ms/step - loss: 1.0391 - accuracy: 0.7500 - val_loss: 1.0318 - val_accuracy: 0.7500\n",
      "Epoch 38/50\n",
      "1/1 [==============================] - 0s 26ms/step - loss: 1.0204 - accuracy: 0.7500 - val_loss: 1.0136 - val_accuracy: 0.7500\n",
      "Epoch 39/50\n",
      "1/1 [==============================] - 0s 29ms/step - loss: 1.0014 - accuracy: 0.7500 - val_loss: 0.9954 - val_accuracy: 0.7500\n",
      "Epoch 40/50\n",
      "1/1 [==============================] - 0s 24ms/step - loss: 0.9824 - accuracy: 0.7500 - val_loss: 0.9762 - val_accuracy: 0.7500\n",
      "Epoch 41/50\n",
      "1/1 [==============================] - 0s 26ms/step - loss: 0.9631 - accuracy: 0.7500 - val_loss: 0.9570 - val_accuracy: 0.7500\n",
      "Epoch 42/50\n",
      "1/1 [==============================] - 0s 20ms/step - loss: 0.9436 - accuracy: 0.7500 - val_loss: 0.9384 - val_accuracy: 0.7500\n",
      "Epoch 43/50\n",
      "1/1 [==============================] - 0s 20ms/step - loss: 0.9241 - accuracy: 0.7500 - val_loss: 0.9198 - val_accuracy: 0.7500\n",
      "Epoch 44/50\n",
      "1/1 [==============================] - 0s 22ms/step - loss: 0.9050 - accuracy: 0.7500 - val_loss: 0.9002 - val_accuracy: 0.7500\n",
      "Epoch 45/50\n",
      "1/1 [==============================] - 0s 20ms/step - loss: 0.8857 - accuracy: 0.7500 - val_loss: 0.8804 - val_accuracy: 0.7500\n",
      "Epoch 46/50\n",
      "1/1 [==============================] - 0s 21ms/step - loss: 0.8665 - accuracy: 0.7500 - val_loss: 0.8616 - val_accuracy: 0.7500\n",
      "Epoch 47/50\n",
      "1/1 [==============================] - 0s 20ms/step - loss: 0.8474 - accuracy: 0.7500 - val_loss: 0.8432 - val_accuracy: 0.7500\n",
      "Epoch 48/50\n",
      "1/1 [==============================] - 0s 21ms/step - loss: 0.8284 - accuracy: 0.7500 - val_loss: 0.8250 - val_accuracy: 0.7500\n",
      "Epoch 49/50\n",
      "1/1 [==============================] - 0s 21ms/step - loss: 0.8097 - accuracy: 0.7857 - val_loss: 0.8062 - val_accuracy: 0.8333\n",
      "Epoch 50/50\n",
      "1/1 [==============================] - 0s 22ms/step - loss: 0.7911 - accuracy: 0.7857 - val_loss: 0.7872 - val_accuracy: 0.8333\n"
     ]
    },
    {
     "data": {
      "text/plain": [
       "<keras.callbacks.History at 0x7f96580d58e0>"
      ]
     },
     "execution_count": 171,
     "metadata": {},
     "output_type": "execute_result"
    }
   ],
   "source": [
    "model = getModel()\n",
    "model.fit(x_train, y_train, epochs=50, validation_data=(x_test, y_test))"
   ]
  },
  {
   "cell_type": "code",
   "execution_count": 150,
   "metadata": {},
   "outputs": [
    {
     "name": "stdout",
     "output_type": "stream",
     "text": [
      "Model: \"sequential_25\"\n",
      "_________________________________________________________________\n",
      " Layer (type)                Output Shape              Param #   \n",
      "=================================================================\n",
      " dense_93 (Dense)            (None, 42, 64)            256       \n",
      "                                                                 \n",
      " flatten_5 (Flatten)         (None, 2688)              0         \n",
      "                                                                 \n",
      " dense_94 (Dense)            (None, 32)                86048     \n",
      "                                                                 \n",
      " dense_95 (Dense)            (None, 16)                528       \n",
      "                                                                 \n",
      " dense_96 (Dense)            (None, 5)                 85        \n",
      "                                                                 \n",
      "=================================================================\n",
      "Total params: 86,917\n",
      "Trainable params: 86,917\n",
      "Non-trainable params: 0\n",
      "_________________________________________________________________\n",
      "None\n"
     ]
    }
   ],
   "source": [
    "\n",
    "print(model.summary())"
   ]
  },
  {
   "cell_type": "code",
   "execution_count": 9,
   "metadata": {},
   "outputs": [],
   "source": [
    "model.save(f\"{modelPath}/{__name__}/test.h5\")"
   ]
  },
  {
   "cell_type": "code",
   "execution_count": null,
   "metadata": {},
   "outputs": [],
   "source": []
  }
 ],
 "metadata": {
  "kernelspec": {
   "display_name": "base",
   "language": "python",
   "name": "python3"
  },
  "language_info": {
   "codemirror_mode": {
    "name": "ipython",
    "version": 3
   },
   "file_extension": ".py",
   "mimetype": "text/x-python",
   "name": "python",
   "nbconvert_exporter": "python",
   "pygments_lexer": "ipython3",
   "version": "3.9.13"
  },
  "orig_nbformat": 4,
  "vscode": {
   "interpreter": {
    "hash": "a0776d035cafdc6e5dfb95767653b001f1477a9fc7ebe463fcf9448670ce1539"
   }
  }
 },
 "nbformat": 4,
 "nbformat_minor": 2
}
