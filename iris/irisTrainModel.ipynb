{
 "cells": [
  {
   "cell_type": "code",
   "execution_count": 173,
   "metadata": {},
   "outputs": [],
   "source": [
    "import numpy as np\n",
    "import os\n",
    "\n",
    "\n",
    "from tensorflow.keras.models import Sequential\n",
    "from tensorflow.keras.layers import Dense\n",
    "from tensorflow.keras.layers import Flatten\n",
    "from tensorflow.keras.callbacks import TensorBoard\n",
    "from sklearn.model_selection import train_test_split\n",
    "from tensorflow.keras.utils import to_categorical\n",
    "import pandas as pd\n",
    "\n",
    "# from globalModule.globalModule import *"
   ]
  },
  {
   "cell_type": "code",
   "execution_count": 174,
   "metadata": {},
   "outputs": [
    {
     "data": {
      "text/plain": [
       "4"
      ]
     },
     "execution_count": 174,
     "metadata": {},
     "output_type": "execute_result"
    }
   ],
   "source": [
    "__name__ = \"grid Classification\"\n",
    "\n",
    "grids = np.array([0, 1, 2, 3])\n",
    "len(grids)"
   ]
  },
  {
   "attachments": {},
   "cell_type": "markdown",
   "metadata": {},
   "source": [
    "# Model"
   ]
  },
  {
   "cell_type": "code",
   "execution_count": 175,
   "metadata": {},
   "outputs": [],
   "source": [
    "def getModel():\n",
    "    model = Sequential()\n",
    "    model.add(Dense(64, activation='relu',input_shape=(42, 3)))\n",
    "    model.add(Flatten())\n",
    "    model.add(Dense(32, activation='relu'))\n",
    "    model.add(Dense(16, activation='relu'))\n",
    "    model.add(Dense(len(grids), activation='softmax'))\n",
    "\n",
    "    model.compile(optimizer='Adam', loss='categorical_crossentropy', metrics=['accuracy'])\n",
    "\n",
    "    return model\n"
   ]
  },
  {
   "cell_type": "code",
   "execution_count": 176,
   "metadata": {},
   "outputs": [],
   "source": [
    "def getData():\n",
    "    data = []\n",
    "\n",
    "    labels = []\n",
    "    for i in range(4):\n",
    "        directory = f\"dataset/{i}\"\n",
    "        for file in os.listdir(directory):        \n",
    "            f = os.path.join(directory, file)\n",
    "            # checking if it is a file\n",
    "            if os.path.isfile(f):                \n",
    "                data.append(pd.read_csv(f'{f}', header=None))\n",
    "                labels.append(i)\n",
    "    return data, labels\n",
    "\n",
    "\n",
    "    # arr = np.array(data)\n",
    "    # display(arr.shape)\n",
    "\n",
    "\n",
    "\n",
    "\n"
   ]
  },
  {
   "cell_type": "code",
   "execution_count": 177,
   "metadata": {},
   "outputs": [],
   "source": [
    "data, labels = getData()\n",
    "x = np.array(data)\n",
    "y = np.array(labels)\n",
    "y = to_categorical(labels).astype(int)\n",
    "x_train, x_test, y_train, y_test = train_test_split(x, y, test_size=0.3, stratify=y)"
   ]
  },
  {
   "cell_type": "code",
   "execution_count": 178,
   "metadata": {},
   "outputs": [
    {
     "data": {
      "text/plain": [
       "(28, 42, 3)"
      ]
     },
     "metadata": {},
     "output_type": "display_data"
    },
    {
     "data": {
      "text/plain": [
       "(28, 4)"
      ]
     },
     "metadata": {},
     "output_type": "display_data"
    },
    {
     "data": {
      "text/plain": [
       "(12, 42, 3)"
      ]
     },
     "metadata": {},
     "output_type": "display_data"
    },
    {
     "data": {
      "text/plain": [
       "(12, 4)"
      ]
     },
     "metadata": {},
     "output_type": "display_data"
    }
   ],
   "source": [
    "\n",
    "display(x_train.shape)\n",
    "display(y_train.shape)\n",
    "display(x_test.shape)\n",
    "display(y_test.shape)\n",
    "\n",
    "\n"
   ]
  },
  {
   "cell_type": "code",
   "execution_count": 179,
   "metadata": {},
   "outputs": [
    {
     "name": "stdout",
     "output_type": "stream",
     "text": [
      "Epoch 1/100\n",
      "1/1 [==============================] - 0s 489ms/step - loss: 1.3907 - accuracy: 0.2500 - val_loss: 1.3830 - val_accuracy: 0.2500\n",
      "Epoch 2/100\n",
      "1/1 [==============================] - 0s 21ms/step - loss: 1.3835 - accuracy: 0.2500 - val_loss: 1.3798 - val_accuracy: 0.2500\n",
      "Epoch 3/100\n",
      "1/1 [==============================] - 0s 24ms/step - loss: 1.3806 - accuracy: 0.2500 - val_loss: 1.3776 - val_accuracy: 0.2500\n",
      "Epoch 4/100\n",
      "1/1 [==============================] - 0s 23ms/step - loss: 1.3786 - accuracy: 0.2500 - val_loss: 1.3746 - val_accuracy: 0.2500\n",
      "Epoch 5/100\n",
      "1/1 [==============================] - 0s 23ms/step - loss: 1.3759 - accuracy: 0.2500 - val_loss: 1.3727 - val_accuracy: 0.2500\n",
      "Epoch 6/100\n",
      "1/1 [==============================] - 0s 25ms/step - loss: 1.3742 - accuracy: 0.2500 - val_loss: 1.3693 - val_accuracy: 0.2500\n",
      "Epoch 7/100\n",
      "1/1 [==============================] - 0s 24ms/step - loss: 1.3708 - accuracy: 0.2500 - val_loss: 1.3670 - val_accuracy: 0.2500\n",
      "Epoch 8/100\n",
      "1/1 [==============================] - 0s 25ms/step - loss: 1.3690 - accuracy: 0.2500 - val_loss: 1.3641 - val_accuracy: 0.2500\n",
      "Epoch 9/100\n",
      "1/1 [==============================] - 0s 26ms/step - loss: 1.3666 - accuracy: 0.2500 - val_loss: 1.3604 - val_accuracy: 0.2500\n",
      "Epoch 10/100\n",
      "1/1 [==============================] - 0s 25ms/step - loss: 1.3631 - accuracy: 0.2500 - val_loss: 1.3546 - val_accuracy: 0.2500\n",
      "Epoch 11/100\n",
      "1/1 [==============================] - 0s 29ms/step - loss: 1.3578 - accuracy: 0.2500 - val_loss: 1.3463 - val_accuracy: 0.2500\n",
      "Epoch 12/100\n",
      "1/1 [==============================] - 0s 45ms/step - loss: 1.3497 - accuracy: 0.2500 - val_loss: 1.3418 - val_accuracy: 0.5000\n",
      "Epoch 13/100\n",
      "1/1 [==============================] - 0s 25ms/step - loss: 1.3458 - accuracy: 0.4643 - val_loss: 1.3361 - val_accuracy: 0.5000\n",
      "Epoch 14/100\n",
      "1/1 [==============================] - 0s 25ms/step - loss: 1.3404 - accuracy: 0.5000 - val_loss: 1.3298 - val_accuracy: 0.7500\n",
      "Epoch 15/100\n",
      "1/1 [==============================] - 0s 25ms/step - loss: 1.3348 - accuracy: 0.6429 - val_loss: 1.3263 - val_accuracy: 0.5000\n",
      "Epoch 16/100\n",
      "1/1 [==============================] - 0s 24ms/step - loss: 1.3320 - accuracy: 0.5000 - val_loss: 1.3209 - val_accuracy: 0.5000\n",
      "Epoch 17/100\n",
      "1/1 [==============================] - 0s 25ms/step - loss: 1.3274 - accuracy: 0.5000 - val_loss: 1.3149 - val_accuracy: 0.5000\n",
      "Epoch 18/100\n",
      "1/1 [==============================] - 0s 24ms/step - loss: 1.3217 - accuracy: 0.4643 - val_loss: 1.3085 - val_accuracy: 0.5000\n",
      "Epoch 19/100\n",
      "1/1 [==============================] - 0s 24ms/step - loss: 1.3162 - accuracy: 0.4643 - val_loss: 1.3023 - val_accuracy: 0.5000\n",
      "Epoch 20/100\n",
      "1/1 [==============================] - 0s 24ms/step - loss: 1.3107 - accuracy: 0.4643 - val_loss: 1.2960 - val_accuracy: 0.5000\n",
      "Epoch 21/100\n",
      "1/1 [==============================] - 0s 25ms/step - loss: 1.3052 - accuracy: 0.4643 - val_loss: 1.2891 - val_accuracy: 0.5000\n",
      "Epoch 22/100\n",
      "1/1 [==============================] - 0s 25ms/step - loss: 1.2989 - accuracy: 0.4643 - val_loss: 1.2818 - val_accuracy: 0.5000\n",
      "Epoch 23/100\n",
      "1/1 [==============================] - 0s 26ms/step - loss: 1.2921 - accuracy: 0.5000 - val_loss: 1.2745 - val_accuracy: 0.7500\n",
      "Epoch 24/100\n",
      "1/1 [==============================] - 0s 26ms/step - loss: 1.2854 - accuracy: 0.7143 - val_loss: 1.2676 - val_accuracy: 0.7500\n",
      "Epoch 25/100\n",
      "1/1 [==============================] - 0s 26ms/step - loss: 1.2787 - accuracy: 0.7500 - val_loss: 1.2603 - val_accuracy: 0.6667\n",
      "Epoch 26/100\n",
      "1/1 [==============================] - 0s 23ms/step - loss: 1.2719 - accuracy: 0.6786 - val_loss: 1.2524 - val_accuracy: 0.5833\n",
      "Epoch 27/100\n",
      "1/1 [==============================] - 0s 23ms/step - loss: 1.2645 - accuracy: 0.6786 - val_loss: 1.2439 - val_accuracy: 0.5833\n",
      "Epoch 28/100\n",
      "1/1 [==============================] - 0s 24ms/step - loss: 1.2568 - accuracy: 0.6429 - val_loss: 1.2350 - val_accuracy: 0.7500\n",
      "Epoch 29/100\n",
      "1/1 [==============================] - 0s 25ms/step - loss: 1.2488 - accuracy: 0.6786 - val_loss: 1.2263 - val_accuracy: 0.8333\n",
      "Epoch 30/100\n",
      "1/1 [==============================] - 0s 40ms/step - loss: 1.2409 - accuracy: 0.7143 - val_loss: 1.2168 - val_accuracy: 0.6667\n",
      "Epoch 31/100\n",
      "1/1 [==============================] - 0s 31ms/step - loss: 1.2322 - accuracy: 0.6071 - val_loss: 1.2072 - val_accuracy: 0.6667\n",
      "Epoch 32/100\n",
      "1/1 [==============================] - 0s 27ms/step - loss: 1.2232 - accuracy: 0.6429 - val_loss: 1.1967 - val_accuracy: 0.5000\n",
      "Epoch 33/100\n",
      "1/1 [==============================] - 0s 26ms/step - loss: 1.2135 - accuracy: 0.6071 - val_loss: 1.1860 - val_accuracy: 0.5833\n",
      "Epoch 34/100\n",
      "1/1 [==============================] - 0s 26ms/step - loss: 1.2033 - accuracy: 0.7143 - val_loss: 1.1761 - val_accuracy: 0.6667\n",
      "Epoch 35/100\n",
      "1/1 [==============================] - 0s 24ms/step - loss: 1.1939 - accuracy: 0.6786 - val_loss: 1.1639 - val_accuracy: 0.5000\n",
      "Epoch 36/100\n",
      "1/1 [==============================] - 0s 26ms/step - loss: 1.1829 - accuracy: 0.5357 - val_loss: 1.1519 - val_accuracy: 0.5000\n",
      "Epoch 37/100\n",
      "1/1 [==============================] - 0s 25ms/step - loss: 1.1721 - accuracy: 0.5000 - val_loss: 1.1394 - val_accuracy: 0.5000\n",
      "Epoch 38/100\n",
      "1/1 [==============================] - 0s 21ms/step - loss: 1.1607 - accuracy: 0.5357 - val_loss: 1.1266 - val_accuracy: 0.5833\n",
      "Epoch 39/100\n",
      "1/1 [==============================] - 0s 25ms/step - loss: 1.1491 - accuracy: 0.5714 - val_loss: 1.1136 - val_accuracy: 0.6667\n",
      "Epoch 40/100\n",
      "1/1 [==============================] - 0s 26ms/step - loss: 1.1369 - accuracy: 0.6071 - val_loss: 1.1006 - val_accuracy: 0.6667\n",
      "Epoch 41/100\n",
      "1/1 [==============================] - 0s 26ms/step - loss: 1.1244 - accuracy: 0.6071 - val_loss: 1.0874 - val_accuracy: 0.6667\n",
      "Epoch 42/100\n",
      "1/1 [==============================] - 0s 21ms/step - loss: 1.1119 - accuracy: 0.6429 - val_loss: 1.0739 - val_accuracy: 0.7500\n",
      "Epoch 43/100\n",
      "1/1 [==============================] - 0s 32ms/step - loss: 1.0991 - accuracy: 0.6429 - val_loss: 1.0596 - val_accuracy: 0.7500\n",
      "Epoch 44/100\n",
      "1/1 [==============================] - 0s 35ms/step - loss: 1.0857 - accuracy: 0.7500 - val_loss: 1.0450 - val_accuracy: 0.7500\n",
      "Epoch 45/100\n",
      "1/1 [==============================] - 0s 23ms/step - loss: 1.0723 - accuracy: 0.7500 - val_loss: 1.0305 - val_accuracy: 0.7500\n",
      "Epoch 46/100\n",
      "1/1 [==============================] - 0s 24ms/step - loss: 1.0588 - accuracy: 0.7500 - val_loss: 1.0166 - val_accuracy: 0.7500\n",
      "Epoch 47/100\n",
      "1/1 [==============================] - 0s 25ms/step - loss: 1.0449 - accuracy: 0.7500 - val_loss: 1.0039 - val_accuracy: 0.7500\n",
      "Epoch 48/100\n",
      "1/1 [==============================] - 0s 28ms/step - loss: 1.0314 - accuracy: 0.7500 - val_loss: 0.9894 - val_accuracy: 0.7500\n",
      "Epoch 49/100\n",
      "1/1 [==============================] - 0s 21ms/step - loss: 1.0171 - accuracy: 0.7500 - val_loss: 0.9746 - val_accuracy: 0.7500\n",
      "Epoch 50/100\n",
      "1/1 [==============================] - 0s 23ms/step - loss: 1.0024 - accuracy: 0.7500 - val_loss: 0.9592 - val_accuracy: 0.7500\n",
      "Epoch 51/100\n",
      "1/1 [==============================] - 0s 23ms/step - loss: 0.9884 - accuracy: 0.7500 - val_loss: 0.9440 - val_accuracy: 0.7500\n",
      "Epoch 52/100\n",
      "1/1 [==============================] - 0s 37ms/step - loss: 0.9751 - accuracy: 0.7143 - val_loss: 0.9301 - val_accuracy: 0.7500\n",
      "Epoch 53/100\n",
      "1/1 [==============================] - 0s 32ms/step - loss: 0.9616 - accuracy: 0.6429 - val_loss: 0.9175 - val_accuracy: 0.7500\n",
      "Epoch 54/100\n",
      "1/1 [==============================] - 0s 18ms/step - loss: 0.9478 - accuracy: 0.6429 - val_loss: 0.9042 - val_accuracy: 0.7500\n",
      "Epoch 55/100\n",
      "1/1 [==============================] - 0s 17ms/step - loss: 0.9340 - accuracy: 0.6429 - val_loss: 0.8894 - val_accuracy: 0.7500\n",
      "Epoch 56/100\n",
      "1/1 [==============================] - 0s 17ms/step - loss: 0.9206 - accuracy: 0.7500 - val_loss: 0.8761 - val_accuracy: 0.7500\n",
      "Epoch 57/100\n",
      "1/1 [==============================] - 0s 17ms/step - loss: 0.9076 - accuracy: 0.7500 - val_loss: 0.8638 - val_accuracy: 0.7500\n",
      "Epoch 58/100\n",
      "1/1 [==============================] - 0s 17ms/step - loss: 0.8946 - accuracy: 0.7500 - val_loss: 0.8515 - val_accuracy: 0.7500\n",
      "Epoch 59/100\n",
      "1/1 [==============================] - 0s 17ms/step - loss: 0.8819 - accuracy: 0.7500 - val_loss: 0.8383 - val_accuracy: 0.7500\n",
      "Epoch 60/100\n",
      "1/1 [==============================] - 0s 17ms/step - loss: 0.8692 - accuracy: 0.7500 - val_loss: 0.8248 - val_accuracy: 0.7500\n",
      "Epoch 61/100\n",
      "1/1 [==============================] - 0s 17ms/step - loss: 0.8568 - accuracy: 0.7500 - val_loss: 0.8130 - val_accuracy: 0.7500\n",
      "Epoch 62/100\n",
      "1/1 [==============================] - 0s 16ms/step - loss: 0.8449 - accuracy: 0.7500 - val_loss: 0.8023 - val_accuracy: 0.7500\n",
      "Epoch 63/100\n",
      "1/1 [==============================] - 0s 21ms/step - loss: 0.8336 - accuracy: 0.7500 - val_loss: 0.7917 - val_accuracy: 0.7500\n",
      "Epoch 64/100\n",
      "1/1 [==============================] - 0s 29ms/step - loss: 0.8223 - accuracy: 0.7500 - val_loss: 0.7808 - val_accuracy: 0.7500\n",
      "Epoch 65/100\n",
      "1/1 [==============================] - 0s 26ms/step - loss: 0.8113 - accuracy: 0.7500 - val_loss: 0.7709 - val_accuracy: 0.7500\n",
      "Epoch 66/100\n",
      "1/1 [==============================] - 0s 25ms/step - loss: 0.8009 - accuracy: 0.7500 - val_loss: 0.7622 - val_accuracy: 0.7500\n",
      "Epoch 67/100\n",
      "1/1 [==============================] - 0s 24ms/step - loss: 0.7906 - accuracy: 0.7500 - val_loss: 0.7536 - val_accuracy: 0.7500\n",
      "Epoch 68/100\n",
      "1/1 [==============================] - 0s 23ms/step - loss: 0.7809 - accuracy: 0.7500 - val_loss: 0.7438 - val_accuracy: 0.7500\n",
      "Epoch 69/100\n",
      "1/1 [==============================] - 0s 25ms/step - loss: 0.7712 - accuracy: 0.7500 - val_loss: 0.7348 - val_accuracy: 0.7500\n",
      "Epoch 70/100\n",
      "1/1 [==============================] - 0s 23ms/step - loss: 0.7618 - accuracy: 0.7500 - val_loss: 0.7264 - val_accuracy: 0.7500\n",
      "Epoch 71/100\n",
      "1/1 [==============================] - 0s 21ms/step - loss: 0.7524 - accuracy: 0.7500 - val_loss: 0.7186 - val_accuracy: 0.7500\n",
      "Epoch 72/100\n",
      "1/1 [==============================] - 0s 19ms/step - loss: 0.7434 - accuracy: 0.7500 - val_loss: 0.7097 - val_accuracy: 0.7500\n",
      "Epoch 73/100\n",
      "1/1 [==============================] - 0s 19ms/step - loss: 0.7337 - accuracy: 0.7500 - val_loss: 0.7004 - val_accuracy: 0.7500\n",
      "Epoch 74/100\n",
      "1/1 [==============================] - 0s 19ms/step - loss: 0.7245 - accuracy: 0.7857 - val_loss: 0.6920 - val_accuracy: 0.7500\n",
      "Epoch 75/100\n",
      "1/1 [==============================] - 0s 23ms/step - loss: 0.7145 - accuracy: 0.8214 - val_loss: 0.6831 - val_accuracy: 0.7500\n",
      "Epoch 76/100\n",
      "1/1 [==============================] - 0s 22ms/step - loss: 0.7048 - accuracy: 0.8571 - val_loss: 0.6749 - val_accuracy: 0.7500\n",
      "Epoch 77/100\n",
      "1/1 [==============================] - 0s 20ms/step - loss: 0.6964 - accuracy: 0.8929 - val_loss: 0.6663 - val_accuracy: 0.7500\n",
      "Epoch 78/100\n",
      "1/1 [==============================] - 0s 20ms/step - loss: 0.6886 - accuracy: 0.8571 - val_loss: 0.6591 - val_accuracy: 0.9167\n",
      "Epoch 79/100\n",
      "1/1 [==============================] - 0s 20ms/step - loss: 0.6807 - accuracy: 0.8571 - val_loss: 0.6516 - val_accuracy: 0.9167\n",
      "Epoch 80/100\n",
      "1/1 [==============================] - 0s 24ms/step - loss: 0.6730 - accuracy: 0.8929 - val_loss: 0.6437 - val_accuracy: 0.9167\n",
      "Epoch 81/100\n",
      "1/1 [==============================] - 0s 25ms/step - loss: 0.6652 - accuracy: 0.8929 - val_loss: 0.6363 - val_accuracy: 0.9167\n",
      "Epoch 82/100\n",
      "1/1 [==============================] - 0s 23ms/step - loss: 0.6573 - accuracy: 0.8929 - val_loss: 0.6290 - val_accuracy: 0.9167\n",
      "Epoch 83/100\n",
      "1/1 [==============================] - 0s 23ms/step - loss: 0.6495 - accuracy: 0.8929 - val_loss: 0.6216 - val_accuracy: 0.9167\n",
      "Epoch 84/100\n",
      "1/1 [==============================] - 0s 21ms/step - loss: 0.6417 - accuracy: 0.8929 - val_loss: 0.6144 - val_accuracy: 0.9167\n",
      "Epoch 85/100\n",
      "1/1 [==============================] - 0s 23ms/step - loss: 0.6336 - accuracy: 0.8929 - val_loss: 0.6100 - val_accuracy: 0.9167\n",
      "Epoch 86/100\n",
      "1/1 [==============================] - 0s 18ms/step - loss: 0.6265 - accuracy: 0.8571 - val_loss: 0.6000 - val_accuracy: 0.9167\n",
      "Epoch 87/100\n",
      "1/1 [==============================] - 0s 20ms/step - loss: 0.6167 - accuracy: 0.8929 - val_loss: 0.5909 - val_accuracy: 0.9167\n",
      "Epoch 88/100\n",
      "1/1 [==============================] - 0s 19ms/step - loss: 0.6103 - accuracy: 0.8929 - val_loss: 0.5831 - val_accuracy: 0.9167\n",
      "Epoch 89/100\n",
      "1/1 [==============================] - 0s 22ms/step - loss: 0.6007 - accuracy: 0.8929 - val_loss: 0.5749 - val_accuracy: 0.9167\n",
      "Epoch 90/100\n",
      "1/1 [==============================] - 0s 19ms/step - loss: 0.5923 - accuracy: 0.8929 - val_loss: 0.5657 - val_accuracy: 0.9167\n",
      "Epoch 91/100\n",
      "1/1 [==============================] - 0s 20ms/step - loss: 0.5837 - accuracy: 0.8929 - val_loss: 0.5569 - val_accuracy: 0.9167\n",
      "Epoch 92/100\n",
      "1/1 [==============================] - 0s 24ms/step - loss: 0.5757 - accuracy: 0.8929 - val_loss: 0.5480 - val_accuracy: 0.9167\n",
      "Epoch 93/100\n",
      "1/1 [==============================] - 0s 28ms/step - loss: 0.5668 - accuracy: 0.8929 - val_loss: 0.5395 - val_accuracy: 0.9167\n",
      "Epoch 94/100\n",
      "1/1 [==============================] - 0s 21ms/step - loss: 0.5586 - accuracy: 0.8929 - val_loss: 0.5298 - val_accuracy: 0.9167\n",
      "Epoch 95/100\n",
      "1/1 [==============================] - 0s 20ms/step - loss: 0.5497 - accuracy: 0.9286 - val_loss: 0.5206 - val_accuracy: 0.9167\n",
      "Epoch 96/100\n",
      "1/1 [==============================] - 0s 19ms/step - loss: 0.5404 - accuracy: 0.8929 - val_loss: 0.5123 - val_accuracy: 0.9167\n",
      "Epoch 97/100\n",
      "1/1 [==============================] - 0s 20ms/step - loss: 0.5318 - accuracy: 0.8929 - val_loss: 0.5024 - val_accuracy: 0.9167\n",
      "Epoch 98/100\n",
      "1/1 [==============================] - 0s 20ms/step - loss: 0.5223 - accuracy: 0.8929 - val_loss: 0.4935 - val_accuracy: 0.9167\n",
      "Epoch 99/100\n",
      "1/1 [==============================] - 0s 19ms/step - loss: 0.5131 - accuracy: 0.8929 - val_loss: 0.4850 - val_accuracy: 0.9167\n",
      "Epoch 100/100\n",
      "1/1 [==============================] - 0s 19ms/step - loss: 0.5038 - accuracy: 0.8929 - val_loss: 0.4758 - val_accuracy: 0.9167\n"
     ]
    },
    {
     "data": {
      "text/plain": [
       "<keras.callbacks.History at 0x7f961c146100>"
      ]
     },
     "execution_count": 179,
     "metadata": {},
     "output_type": "execute_result"
    }
   ],
   "source": [
    "model = getModel()\n",
    "model.fit(x_train, y_train, epochs=100, validation_data=(x_test, y_test))"
   ]
  },
  {
   "cell_type": "code",
   "execution_count": 180,
   "metadata": {},
   "outputs": [
    {
     "name": "stdout",
     "output_type": "stream",
     "text": [
      "Model: \"sequential_28\"\n",
      "_________________________________________________________________\n",
      " Layer (type)                Output Shape              Param #   \n",
      "=================================================================\n",
      " dense_105 (Dense)           (None, 42, 64)            256       \n",
      "                                                                 \n",
      " flatten_8 (Flatten)         (None, 2688)              0         \n",
      "                                                                 \n",
      " dense_106 (Dense)           (None, 32)                86048     \n",
      "                                                                 \n",
      " dense_107 (Dense)           (None, 16)                528       \n",
      "                                                                 \n",
      " dense_108 (Dense)           (None, 4)                 68        \n",
      "                                                                 \n",
      "=================================================================\n",
      "Total params: 86,900\n",
      "Trainable params: 86,900\n",
      "Non-trainable params: 0\n",
      "_________________________________________________________________\n",
      "None\n"
     ]
    }
   ],
   "source": [
    "\n",
    "print(model.summary())"
   ]
  },
  {
   "cell_type": "code",
   "execution_count": 181,
   "metadata": {},
   "outputs": [],
   "source": [
    "model.save(f\"iris.h5\")"
   ]
  },
  {
   "cell_type": "code",
   "execution_count": null,
   "metadata": {},
   "outputs": [],
   "source": []
  }
 ],
 "metadata": {
  "kernelspec": {
   "display_name": "base",
   "language": "python",
   "name": "python3"
  },
  "language_info": {
   "codemirror_mode": {
    "name": "ipython",
    "version": 3
   },
   "file_extension": ".py",
   "mimetype": "text/x-python",
   "name": "python",
   "nbconvert_exporter": "python",
   "pygments_lexer": "ipython3",
   "version": "3.9.13"
  },
  "orig_nbformat": 4,
  "vscode": {
   "interpreter": {
    "hash": "a0776d035cafdc6e5dfb95767653b001f1477a9fc7ebe463fcf9448670ce1539"
   }
  }
 },
 "nbformat": 4,
 "nbformat_minor": 2
}
